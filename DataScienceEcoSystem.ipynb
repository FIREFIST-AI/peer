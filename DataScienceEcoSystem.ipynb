{
 "cells": [
  {
   "cell_type": "markdown",
   "id": "7e19f027-56a9-4b9c-8b85-c772bca60f83",
   "metadata": {},
   "source": [
    "# Data Science Tools and Ecosystem"
   ]
  },
  {
   "cell_type": "markdown",
   "id": "24914eb5-7c14-4852-a75b-83a3620d1555",
   "metadata": {},
   "source": [
    "In this notebook, Data Science Tools and Ecosystem are summarized."
   ]
  },
  {
   "cell_type": "markdown",
   "id": "62aeee9b-385a-4154-a802-bae64a4f1231",
   "metadata": {},
   "source": [
    "**Objectives:**\n",
    "* Create markdown cell with title of the notebook\n",
    "*  Create a markdown cell for an introduction\n",
    "* Create a markdown cell to list data science libraries\n",
    " "
   ]
  },
  {
   "cell_type": "markdown",
   "id": "ed41bb10-67a8-4ec1-9fd9-af5c332a56c4",
   "metadata": {},
   "source": [
    "Some of the popular languages that Data Scientists use are:"
   ]
  },
  {
   "cell_type": "markdown",
   "id": "b73bfb9f-60f5-4411-8668-3df1ef0901cd",
   "metadata": {},
   "source": [
    "    1. Python\n",
    "    2. R Studio\n",
    "    3. Java"
   ]
  },
  {
   "cell_type": "markdown",
   "id": "19ea53e3-c5be-4017-a544-61efafe618f6",
   "metadata": {},
   "source": [
    "Some of the commonly used libraries used by Data Scientists include:"
   ]
  },
  {
   "cell_type": "markdown",
   "id": "9d23c917-fca8-43bf-9450-d8e930347559",
   "metadata": {},
   "source": [
    "1. NumPy\n",
    "2. Pandas\n",
    "3. Seaborn"
   ]
  },
  {
   "cell_type": "markdown",
   "id": "706516f4-1d6b-43e2-b54b-be5e447b9a5c",
   "metadata": {},
   "source": [
    "| Data Science Tools     |\n",
    "|------------------------|\n",
    "| Jupyter Notebooks      |\n",
    "| RStudio                |\n",
    "| VSCode (Visual Studio Code) |"
   ]
  },
  {
   "cell_type": "markdown",
   "id": "6a531671-f221-4330-b05c-b0f5e2d62ff1",
   "metadata": {},
   "source": [
    "### Below are a few examples of evaluating arithmetic expressions in Python.\n",
    "\n",
    "\n"
   ]
  },
  {
   "cell_type": "markdown",
   "id": "8d52940b-5868-4ebd-beda-cd1933266f9d",
   "metadata": {},
   "source": [
    "1. + \n",
    "2. -\n",
    "3. *\n",
    "4.  %"
   ]
  },
  {
   "cell_type": "code",
   "execution_count": 31,
   "id": "4de4b44e-b86a-4a34-9311-41796c60d910",
   "metadata": {},
   "outputs": [
    {
     "data": {
      "text/plain": [
       "17"
      ]
     },
     "execution_count": 31,
     "metadata": {},
     "output_type": "execute_result"
    }
   ],
   "source": [
    "(3*4)+5\n",
    "# This a simple arithmetic expression to mutiply then add integers"
   ]
  },
  {
   "cell_type": "code",
   "execution_count": 35,
   "id": "a0d926bf-7418-4097-8d2e-f694b7d86d8a",
   "metadata": {},
   "outputs": [
    {
     "data": {
      "text/plain": [
       "3.3333333333333335"
      ]
     },
     "execution_count": 35,
     "metadata": {},
     "output_type": "execute_result"
    }
   ],
   "source": [
    "200/60\n",
    "# This will convert 200 minutes to hours by diving by 60"
   ]
  },
  {
   "cell_type": "markdown",
   "id": "0f7a9917-1b55-4fd2-ae7e-ffd123958090",
   "metadata": {},
   "source": [
    "## Aurthor\n",
    "Surya Prakash\n"
   ]
  },
  {
   "cell_type": "code",
   "execution_count": null,
   "id": "be7667c4-39f5-47a4-b804-d38955281fde",
   "metadata": {},
   "outputs": [],
   "source": []
  }
 ],
 "metadata": {
  "kernelspec": {
   "display_name": "anaconda-panel-2023.05-py310",
   "language": "python",
   "name": "conda-env-anaconda-panel-2023.05-py310-py"
  },
  "language_info": {
   "codemirror_mode": {
    "name": "ipython",
    "version": 3
   },
   "file_extension": ".py",
   "mimetype": "text/x-python",
   "name": "python",
   "nbconvert_exporter": "python",
   "pygments_lexer": "ipython3",
   "version": "3.11.5"
  }
 },
 "nbformat": 4,
 "nbformat_minor": 5
}
